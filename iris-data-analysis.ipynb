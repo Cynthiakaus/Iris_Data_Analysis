{
 "cells": [
  {
   "cell_type": "code",
   "execution_count": 1,
   "id": "86ee68ae",
   "metadata": {
    "execution": {
     "iopub.execute_input": "2025-07-10T15:30:05.413945Z",
     "iopub.status.busy": "2025-07-10T15:30:05.413574Z",
     "iopub.status.idle": "2025-07-10T15:30:08.890136Z",
     "shell.execute_reply": "2025-07-10T15:30:08.889289Z"
    },
    "executionInfo": {
     "elapsed": 8194,
     "status": "ok",
     "timestamp": 1752158558948,
     "user": {
      "displayName": "ABHINAV",
      "userId": "03292024163852350354"
     },
     "user_tz": -330
    },
    "id": "-7MzPQrRkqle",
    "outputId": "d1a0874b-b131-429b-f810-145c35dcba99",
    "papermill": {
     "duration": 3.48405,
     "end_time": "2025-07-10T15:30:08.891844",
     "exception": false,
     "start_time": "2025-07-10T15:30:05.407794",
     "status": "completed"
    },
    "tags": []
   },
   "outputs": [],
   "source": [
    "\n",
    "import  pandas as pd\n",
    "import seaborn as sns\n",
    "import matplotlib.pyplot as plt\n"
   ]
  },
  {
   "cell_type": "code",
   "execution_count": 2,
   "id": "fe931ecb",
   "metadata": {
    "execution": {
     "iopub.execute_input": "2025-07-10T15:30:08.902110Z",
     "iopub.status.busy": "2025-07-10T15:30:08.901031Z",
     "iopub.status.idle": "2025-07-10T15:30:08.920836Z",
     "shell.execute_reply": "2025-07-10T15:30:08.920141Z"
    },
    "executionInfo": {
     "elapsed": 8,
     "status": "ok",
     "timestamp": 1752158558968,
     "user": {
      "displayName": "ABHINAV",
      "userId": "03292024163852350354"
     },
     "user_tz": -330
    },
    "id": "KYFJ_qpDmN1b",
    "papermill": {
     "duration": 0.025905,
     "end_time": "2025-07-10T15:30:08.922342",
     "exception": false,
     "start_time": "2025-07-10T15:30:08.896437",
     "status": "completed"
    },
    "tags": []
   },
   "outputs": [],
   "source": [
    "\n",
    "df = pd.read_csv(\"/kaggle/input/iris/Iris.csv\")\n"
   ]
  },
  {
   "cell_type": "code",
   "execution_count": 3,
   "id": "aa8c0c68",
   "metadata": {
    "execution": {
     "iopub.execute_input": "2025-07-10T15:30:08.931931Z",
     "iopub.status.busy": "2025-07-10T15:30:08.931015Z",
     "iopub.status.idle": "2025-07-10T15:30:08.956483Z",
     "shell.execute_reply": "2025-07-10T15:30:08.955591Z"
    },
    "executionInfo": {
     "elapsed": 96,
     "status": "ok",
     "timestamp": 1752158559100,
     "user": {
      "displayName": "ABHINAV",
      "userId": "03292024163852350354"
     },
     "user_tz": -330
    },
    "id": "vy3MokdHmh6a",
    "outputId": "eedb71d1-c15e-4141-8634-4fa2fced8831",
    "papermill": {
     "duration": 0.031574,
     "end_time": "2025-07-10T15:30:08.957917",
     "exception": false,
     "start_time": "2025-07-10T15:30:08.926343",
     "status": "completed"
    },
    "tags": []
   },
   "outputs": [
    {
     "data": {
      "text/html": [
       "<div>\n",
       "<style scoped>\n",
       "    .dataframe tbody tr th:only-of-type {\n",
       "        vertical-align: middle;\n",
       "    }\n",
       "\n",
       "    .dataframe tbody tr th {\n",
       "        vertical-align: top;\n",
       "    }\n",
       "\n",
       "    .dataframe thead th {\n",
       "        text-align: right;\n",
       "    }\n",
       "</style>\n",
       "<table border=\"1\" class=\"dataframe\">\n",
       "  <thead>\n",
       "    <tr style=\"text-align: right;\">\n",
       "      <th></th>\n",
       "      <th>Id</th>\n",
       "      <th>SepalLengthCm</th>\n",
       "      <th>SepalWidthCm</th>\n",
       "      <th>PetalLengthCm</th>\n",
       "      <th>PetalWidthCm</th>\n",
       "      <th>Species</th>\n",
       "    </tr>\n",
       "  </thead>\n",
       "  <tbody>\n",
       "    <tr>\n",
       "      <th>0</th>\n",
       "      <td>1</td>\n",
       "      <td>5.1</td>\n",
       "      <td>3.5</td>\n",
       "      <td>1.4</td>\n",
       "      <td>0.2</td>\n",
       "      <td>Iris-setosa</td>\n",
       "    </tr>\n",
       "    <tr>\n",
       "      <th>1</th>\n",
       "      <td>2</td>\n",
       "      <td>4.9</td>\n",
       "      <td>3.0</td>\n",
       "      <td>1.4</td>\n",
       "      <td>0.2</td>\n",
       "      <td>Iris-setosa</td>\n",
       "    </tr>\n",
       "    <tr>\n",
       "      <th>2</th>\n",
       "      <td>3</td>\n",
       "      <td>4.7</td>\n",
       "      <td>3.2</td>\n",
       "      <td>1.3</td>\n",
       "      <td>0.2</td>\n",
       "      <td>Iris-setosa</td>\n",
       "    </tr>\n",
       "    <tr>\n",
       "      <th>3</th>\n",
       "      <td>4</td>\n",
       "      <td>4.6</td>\n",
       "      <td>3.1</td>\n",
       "      <td>1.5</td>\n",
       "      <td>0.2</td>\n",
       "      <td>Iris-setosa</td>\n",
       "    </tr>\n",
       "    <tr>\n",
       "      <th>4</th>\n",
       "      <td>5</td>\n",
       "      <td>5.0</td>\n",
       "      <td>3.6</td>\n",
       "      <td>1.4</td>\n",
       "      <td>0.2</td>\n",
       "      <td>Iris-setosa</td>\n",
       "    </tr>\n",
       "  </tbody>\n",
       "</table>\n",
       "</div>"
      ],
      "text/plain": [
       "   Id  SepalLengthCm  SepalWidthCm  PetalLengthCm  PetalWidthCm      Species\n",
       "0   1            5.1           3.5            1.4           0.2  Iris-setosa\n",
       "1   2            4.9           3.0            1.4           0.2  Iris-setosa\n",
       "2   3            4.7           3.2            1.3           0.2  Iris-setosa\n",
       "3   4            4.6           3.1            1.5           0.2  Iris-setosa\n",
       "4   5            5.0           3.6            1.4           0.2  Iris-setosa"
      ]
     },
     "execution_count": 3,
     "metadata": {},
     "output_type": "execute_result"
    }
   ],
   "source": [
    "df.head()"
   ]
  },
  {
   "cell_type": "code",
   "execution_count": 4,
   "id": "abddc660",
   "metadata": {
    "execution": {
     "iopub.execute_input": "2025-07-10T15:30:08.966944Z",
     "iopub.status.busy": "2025-07-10T15:30:08.966651Z",
     "iopub.status.idle": "2025-07-10T15:30:08.989460Z",
     "shell.execute_reply": "2025-07-10T15:30:08.988615Z"
    },
    "executionInfo": {
     "elapsed": 450,
     "status": "ok",
     "timestamp": 1752158559555,
     "user": {
      "displayName": "ABHINAV",
      "userId": "03292024163852350354"
     },
     "user_tz": -330
    },
    "id": "33sP_5idmrDN",
    "outputId": "d6a05f8e-a818-4616-ce36-62d3ad6098c8",
    "papermill": {
     "duration": 0.028956,
     "end_time": "2025-07-10T15:30:08.990853",
     "exception": false,
     "start_time": "2025-07-10T15:30:08.961897",
     "status": "completed"
    },
    "tags": []
   },
   "outputs": [
    {
     "data": {
      "text/html": [
       "<div>\n",
       "<style scoped>\n",
       "    .dataframe tbody tr th:only-of-type {\n",
       "        vertical-align: middle;\n",
       "    }\n",
       "\n",
       "    .dataframe tbody tr th {\n",
       "        vertical-align: top;\n",
       "    }\n",
       "\n",
       "    .dataframe thead th {\n",
       "        text-align: right;\n",
       "    }\n",
       "</style>\n",
       "<table border=\"1\" class=\"dataframe\">\n",
       "  <thead>\n",
       "    <tr style=\"text-align: right;\">\n",
       "      <th></th>\n",
       "      <th>Id</th>\n",
       "      <th>SepalLengthCm</th>\n",
       "      <th>SepalWidthCm</th>\n",
       "      <th>PetalLengthCm</th>\n",
       "      <th>PetalWidthCm</th>\n",
       "    </tr>\n",
       "  </thead>\n",
       "  <tbody>\n",
       "    <tr>\n",
       "      <th>count</th>\n",
       "      <td>150.000000</td>\n",
       "      <td>150.000000</td>\n",
       "      <td>150.000000</td>\n",
       "      <td>150.000000</td>\n",
       "      <td>150.000000</td>\n",
       "    </tr>\n",
       "    <tr>\n",
       "      <th>mean</th>\n",
       "      <td>75.500000</td>\n",
       "      <td>5.843333</td>\n",
       "      <td>3.054000</td>\n",
       "      <td>3.758667</td>\n",
       "      <td>1.198667</td>\n",
       "    </tr>\n",
       "    <tr>\n",
       "      <th>std</th>\n",
       "      <td>43.445368</td>\n",
       "      <td>0.828066</td>\n",
       "      <td>0.433594</td>\n",
       "      <td>1.764420</td>\n",
       "      <td>0.763161</td>\n",
       "    </tr>\n",
       "    <tr>\n",
       "      <th>min</th>\n",
       "      <td>1.000000</td>\n",
       "      <td>4.300000</td>\n",
       "      <td>2.000000</td>\n",
       "      <td>1.000000</td>\n",
       "      <td>0.100000</td>\n",
       "    </tr>\n",
       "    <tr>\n",
       "      <th>25%</th>\n",
       "      <td>38.250000</td>\n",
       "      <td>5.100000</td>\n",
       "      <td>2.800000</td>\n",
       "      <td>1.600000</td>\n",
       "      <td>0.300000</td>\n",
       "    </tr>\n",
       "    <tr>\n",
       "      <th>50%</th>\n",
       "      <td>75.500000</td>\n",
       "      <td>5.800000</td>\n",
       "      <td>3.000000</td>\n",
       "      <td>4.350000</td>\n",
       "      <td>1.300000</td>\n",
       "    </tr>\n",
       "    <tr>\n",
       "      <th>75%</th>\n",
       "      <td>112.750000</td>\n",
       "      <td>6.400000</td>\n",
       "      <td>3.300000</td>\n",
       "      <td>5.100000</td>\n",
       "      <td>1.800000</td>\n",
       "    </tr>\n",
       "    <tr>\n",
       "      <th>max</th>\n",
       "      <td>150.000000</td>\n",
       "      <td>7.900000</td>\n",
       "      <td>4.400000</td>\n",
       "      <td>6.900000</td>\n",
       "      <td>2.500000</td>\n",
       "    </tr>\n",
       "  </tbody>\n",
       "</table>\n",
       "</div>"
      ],
      "text/plain": [
       "               Id  SepalLengthCm  SepalWidthCm  PetalLengthCm  PetalWidthCm\n",
       "count  150.000000     150.000000    150.000000     150.000000    150.000000\n",
       "mean    75.500000       5.843333      3.054000       3.758667      1.198667\n",
       "std     43.445368       0.828066      0.433594       1.764420      0.763161\n",
       "min      1.000000       4.300000      2.000000       1.000000      0.100000\n",
       "25%     38.250000       5.100000      2.800000       1.600000      0.300000\n",
       "50%     75.500000       5.800000      3.000000       4.350000      1.300000\n",
       "75%    112.750000       6.400000      3.300000       5.100000      1.800000\n",
       "max    150.000000       7.900000      4.400000       6.900000      2.500000"
      ]
     },
     "execution_count": 4,
     "metadata": {},
     "output_type": "execute_result"
    }
   ],
   "source": [
    "df.describe()"
   ]
  },
  {
   "cell_type": "code",
   "execution_count": 5,
   "id": "40bf1bdb",
   "metadata": {
    "execution": {
     "iopub.execute_input": "2025-07-10T15:30:09.000482Z",
     "iopub.status.busy": "2025-07-10T15:30:08.999833Z",
     "iopub.status.idle": "2025-07-10T15:30:09.005186Z",
     "shell.execute_reply": "2025-07-10T15:30:09.004538Z"
    },
    "executionInfo": {
     "elapsed": 21,
     "status": "ok",
     "timestamp": 1752158559602,
     "user": {
      "displayName": "ABHINAV",
      "userId": "03292024163852350354"
     },
     "user_tz": -330
    },
    "id": "p0q3bphTmv7a",
    "outputId": "dd0a8355-607a-4488-ecdd-ac11ebfb6c07",
    "papermill": {
     "duration": 0.011655,
     "end_time": "2025-07-10T15:30:09.006579",
     "exception": false,
     "start_time": "2025-07-10T15:30:08.994924",
     "status": "completed"
    },
    "tags": []
   },
   "outputs": [
    {
     "data": {
      "text/plain": [
       "(150, 6)"
      ]
     },
     "execution_count": 5,
     "metadata": {},
     "output_type": "execute_result"
    }
   ],
   "source": [
    "df.shape"
   ]
  },
  {
   "cell_type": "markdown",
   "id": "759ddf47",
   "metadata": {
    "id": "0JjaTJ4NnLeu",
    "papermill": {
     "duration": 0.003842,
     "end_time": "2025-07-10T15:30:09.014685",
     "exception": false,
     "start_time": "2025-07-10T15:30:09.010843",
     "status": "completed"
    },
    "tags": []
   },
   "source": [
    "## Sepal Length v/s Sepal Width Comparison"
   ]
  },
  {
   "cell_type": "code",
   "execution_count": 6,
   "id": "166455fa",
   "metadata": {
    "execution": {
     "iopub.execute_input": "2025-07-10T15:30:09.023827Z",
     "iopub.status.busy": "2025-07-10T15:30:09.023534Z",
     "iopub.status.idle": "2025-07-10T15:30:09.571991Z",
     "shell.execute_reply": "2025-07-10T15:30:09.571171Z"
    },
    "executionInfo": {
     "elapsed": 305,
     "status": "ok",
     "timestamp": 1752158559903,
     "user": {
      "displayName": "ABHINAV",
      "userId": "03292024163852350354"
     },
     "user_tz": -330
    },
    "id": "lBHg6NDum34P",
    "outputId": "17cf1efe-bee1-4258-f2a8-9f6ffe8f7152",
    "papermill": {
     "duration": 0.555606,
     "end_time": "2025-07-10T15:30:09.574312",
     "exception": false,
     "start_time": "2025-07-10T15:30:09.018706",
     "status": "completed"
    },
    "tags": []
   },
   "outputs": [
    {
     "data": {
      "text/plain": [
       "Text(0.5, 1.0, 'Sepal Length v/s Sepal Width Comparison')"
      ]
     },
     "execution_count": 6,
     "metadata": {},
     "output_type": "execute_result"
    },
    {
     "data": {
      "image/png": "[encoded data removed]",
      "text/plain": [
       "<Figure size 640x480 with 1 Axes>"
      ]
     },
     "metadata": {},
     "output_type": "display_data"
    }
   ],
   "source": [
    "sns.scatterplot(x='SepalLengthCm',y='SepalWidthCm',hue='Species',data=df)\n",
    "plt.title('Sepal Length v/s Sepal Width Comparison')"
   ]
  },
  {
   "cell_type": "markdown",
   "id": "0ad9623d",
   "metadata": {
    "id": "5aCmYAeooaFl",
    "papermill": {
     "duration": 0.005114,
     "end_time": "2025-07-10T15:30:09.584887",
     "exception": false,
     "start_time": "2025-07-10T15:30:09.579773",
     "status": "completed"
    },
    "tags": []
   },
   "source": [
    "we conclude 'setosa' has most sepal length v/s width ratio."
   ]
  },
  {
   "cell_type": "markdown",
   "id": "dac619fc",
   "metadata": {
    "id": "uGAWJXgQqhJm",
    "papermill": {
     "duration": 0.004799,
     "end_time": "2025-07-10T15:30:09.595650",
     "exception": false,
     "start_time": "2025-07-10T15:30:09.590851",
     "status": "completed"
    },
    "tags": []
   },
   "source": [
    "## Comparing Lengths of Petals"
   ]
  },
  {
   "cell_type": "code",
   "execution_count": 7,
   "id": "35b38aff",
   "metadata": {
    "execution": {
     "iopub.execute_input": "2025-07-10T15:30:09.607528Z",
     "iopub.status.busy": "2025-07-10T15:30:09.606653Z",
     "iopub.status.idle": "2025-07-10T15:30:09.820596Z",
     "shell.execute_reply": "2025-07-10T15:30:09.819810Z"
    },
    "executionInfo": {
     "elapsed": 56,
     "status": "ok",
     "timestamp": 1752158559951,
     "user": {
      "displayName": "ABHINAV",
      "userId": "03292024163852350354"
     },
     "user_tz": -330
    },
    "id": "m6h2Wq9YpPXp",
    "outputId": "76ad2563-c5c9-4c1a-850b-a0eee0636c9d",
    "papermill": {
     "duration": 0.221413,
     "end_time": "2025-07-10T15:30:09.822113",
     "exception": false,
     "start_time": "2025-07-10T15:30:09.600700",
     "status": "completed"
    },
    "tags": []
   },
   "outputs": [
    {
     "data": {
      "text/plain": [
       "<Axes: xlabel='Species', ylabel='PetalLengthCm'>"
      ]
     },
     "execution_count": 7,
     "metadata": {},
     "output_type": "execute_result"
    },
    {
     "data": {
      "image/png": "[encoded data removed]",
      "text/plain": [
       "<Figure size 640x480 with 1 Axes>"
      ]
     },
     "metadata": {},
     "output_type": "display_data"
    }
   ],
   "source": [
    "    sns.barplot(x='Species', y='PetalLengthCm', data=df)"
   ]
  },
  {
   "cell_type": "markdown",
   "id": "3e8a9310",
   "metadata": {
    "id": "AJ-VpBmrqt8M",
    "papermill": {
     "duration": 0.005091,
     "end_time": "2025-07-10T15:30:09.832770",
     "exception": false,
     "start_time": "2025-07-10T15:30:09.827679",
     "status": "completed"
    },
    "tags": []
   },
   "source": [
    "we conclude Virginica has longest petals among all species."
   ]
  },
  {
   "cell_type": "markdown",
   "id": "db35b965",
   "metadata": {
    "id": "ovkNrUV-rq9_",
    "papermill": {
     "duration": 0.004947,
     "end_time": "2025-07-10T15:30:09.842886",
     "exception": false,
     "start_time": "2025-07-10T15:30:09.837939",
     "status": "completed"
    },
    "tags": []
   },
   "source": [
    "### Checking NaN Values."
   ]
  },
  {
   "cell_type": "code",
   "execution_count": 8,
   "id": "d9f83c8b",
   "metadata": {
    "execution": {
     "iopub.execute_input": "2025-07-10T15:30:09.855009Z",
     "iopub.status.busy": "2025-07-10T15:30:09.854299Z",
     "iopub.status.idle": "2025-07-10T15:30:09.861269Z",
     "shell.execute_reply": "2025-07-10T15:30:09.860562Z"
    },
    "executionInfo": {
     "elapsed": 25,
     "status": "ok",
     "timestamp": 1752158559978,
     "user": {
      "displayName": "ABHINAV",
      "userId": "03292024163852350354"
     },
     "user_tz": -330
    },
    "id": "bnzuKBR7qeYz",
    "outputId": "94ea3ed3-a675-4e9f-be2a-fd1cb5c10947",
    "papermill": {
     "duration": 0.014485,
     "end_time": "2025-07-10T15:30:09.862669",
     "exception": false,
     "start_time": "2025-07-10T15:30:09.848184",
     "status": "completed"
    },
    "tags": []
   },
   "outputs": [
    {
     "data": {
      "text/plain": [
       "Id               0\n",
       "SepalLengthCm    0\n",
       "SepalWidthCm     0\n",
       "PetalLengthCm    0\n",
       "PetalWidthCm     0\n",
       "Species          0\n",
       "dtype: int64"
      ]
     },
     "execution_count": 8,
     "metadata": {},
     "output_type": "execute_result"
    }
   ],
   "source": [
    "df.isna().sum()"
   ]
  },
  {
   "cell_type": "markdown",
   "id": "a63a7d1f",
   "metadata": {
    "id": "QtnFD1EHr2nE",
    "papermill": {
     "duration": 0.005314,
     "end_time": "2025-07-10T15:30:09.873565",
     "exception": false,
     "start_time": "2025-07-10T15:30:09.868251",
     "status": "completed"
    },
    "tags": []
   },
   "source": [
    "### Check and Drop Duplicates."
   ]
  },
  {
   "cell_type": "code",
   "execution_count": 9,
   "id": "7f9a9efe",
   "metadata": {
    "execution": {
     "iopub.execute_input": "2025-07-10T15:30:09.885477Z",
     "iopub.status.busy": "2025-07-10T15:30:09.885129Z",
     "iopub.status.idle": "2025-07-10T15:30:09.893617Z",
     "shell.execute_reply": "2025-07-10T15:30:09.892810Z"
    },
    "executionInfo": {
     "elapsed": 14,
     "status": "ok",
     "timestamp": 1752158560010,
     "user": {
      "displayName": "ABHINAV",
      "userId": "03292024163852350354"
     },
     "user_tz": -330
    },
    "id": "4Qrup75orn1C",
    "outputId": "77ba616c-4038-4f93-e7ee-b52384d6ee28",
    "papermill": {
     "duration": 0.015968,
     "end_time": "2025-07-10T15:30:09.894900",
     "exception": false,
     "start_time": "2025-07-10T15:30:09.878932",
     "status": "completed"
    },
    "tags": []
   },
   "outputs": [
    {
     "data": {
      "text/plain": [
       "0"
      ]
     },
     "execution_count": 9,
     "metadata": {},
     "output_type": "execute_result"
    }
   ],
   "source": [
    "df.duplicated().sum()"
   ]
  },
  {
   "cell_type": "code",
   "execution_count": 10,
   "id": "0e5f6ab1",
   "metadata": {
    "execution": {
     "iopub.execute_input": "2025-07-10T15:30:09.907099Z",
     "iopub.status.busy": "2025-07-10T15:30:09.906804Z",
     "iopub.status.idle": "2025-07-10T15:30:09.912093Z",
     "shell.execute_reply": "2025-07-10T15:30:09.911365Z"
    },
    "executionInfo": {
     "elapsed": 3,
     "status": "ok",
     "timestamp": 1752158560016,
     "user": {
      "displayName": "ABHINAV",
      "userId": "03292024163852350354"
     },
     "user_tz": -330
    },
    "id": "T6qRPwl_tWsF",
    "papermill": {
     "duration": 0.013225,
     "end_time": "2025-07-10T15:30:09.913812",
     "exception": false,
     "start_time": "2025-07-10T15:30:09.900587",
     "status": "completed"
    },
    "tags": []
   },
   "outputs": [],
   "source": [
    "df.drop_duplicates(inplace=True)"
   ]
  },
  {
   "cell_type": "markdown",
   "id": "1a6e271a",
   "metadata": {
    "id": "COX_UftqwLtc",
    "papermill": {
     "duration": 0.005246,
     "end_time": "2025-07-10T15:30:09.924657",
     "exception": false,
     "start_time": "2025-07-10T15:30:09.919411",
     "status": "completed"
    },
    "tags": []
   },
   "source": [
    "## Number of each species"
   ]
  },
  {
   "cell_type": "code",
   "execution_count": 11,
   "id": "6214cd10",
   "metadata": {
    "execution": {
     "iopub.execute_input": "2025-07-10T15:30:09.937200Z",
     "iopub.status.busy": "2025-07-10T15:30:09.936887Z",
     "iopub.status.idle": "2025-07-10T15:30:09.944424Z",
     "shell.execute_reply": "2025-07-10T15:30:09.943608Z"
    },
    "executionInfo": {
     "elapsed": 25,
     "status": "ok",
     "timestamp": 1752158560046,
     "user": {
      "displayName": "ABHINAV",
      "userId": "03292024163852350354"
     },
     "user_tz": -330
    },
    "id": "-c40r0Dmtgpb",
    "outputId": "e67bdc8a-ccc0-4b3e-fcfa-ac17a34593af",
    "papermill": {
     "duration": 0.015679,
     "end_time": "2025-07-10T15:30:09.945853",
     "exception": false,
     "start_time": "2025-07-10T15:30:09.930174",
     "status": "completed"
    },
    "tags": []
   },
   "outputs": [
    {
     "data": {
      "text/plain": [
       "Species\n",
       "Iris-setosa        50\n",
       "Iris-versicolor    50\n",
       "Iris-virginica     50\n",
       "Name: count, dtype: int64"
      ]
     },
     "execution_count": 11,
     "metadata": {},
     "output_type": "execute_result"
    }
   ],
   "source": [
    "df['Species'].value_counts()"
   ]
  }
 ],
 "metadata": {
  "colab": {
   "authorship_tag": "ABX9TyP/qqEKiO2QIXvoHuxPP8iR",
   "provenance": []
  },
  "kaggle": {
   "accelerator": "none",
   "dataSources": [
    {
     "datasetId": 19,
     "sourceId": 420,
     "sourceType": "datasetVersion"
    }
   ],
   "dockerImageVersionId": 31089,
   "isGpuEnabled": false,
   "isInternetEnabled": false,
   "language": "python",
   "sourceType": "notebook"
  },
  "kernelspec": {
   "display_name": "Python 3",
   "language": "python",
   "name": "python3"
  },
  "language_info": {
   "codemirror_mode": {
    "name": "ipython",
    "version": 3
   },
   "file_extension": ".py",
   "mimetype": "text/x-python",
   "name": "python",
   "nbconvert_exporter": "python",
   "pygments_lexer": "ipython3",
   "version": "3.11.13"
  },
  "papermill": {
   "default_parameters": {},
   "duration": 9.755636,
   "end_time": "2025-07-10T15:30:10.570308",
   "environment_variables": {},
   "exception": null,
   "input_path": "__notebook__.ipynb",
   "output_path": "__notebook__.ipynb",
   "parameters": {},
   "start_time": "2025-07-10T15:30:00.814672",
   "version": "2.6.0"
  }
 },
 "nbformat": 4,
 "nbformat_minor": 5
}
